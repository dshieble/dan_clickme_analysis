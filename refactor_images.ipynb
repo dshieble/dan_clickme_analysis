{
 "cells": [
  {
   "cell_type": "code",
   "execution_count": 1,
   "metadata": {
    "collapsed": false,
    "scrolled": true
   },
   "outputs": [],
   "source": [
    "%matplotlib inline\n",
    "%load_ext autoreload\n",
    "%autoreload 2\n",
    "import matplotlib.pyplot as plt\n",
    "from tqdm import tqdm\n",
    "import numpy as np\n",
    "import pandas as pd\n",
    "from PIL import Image\n",
    "from scipy.misc import imread, imresize\n",
    "from scipy.misc import imsave\n",
    "import helper_functions as hf\n",
    "import pickledb\n",
    "import time\n",
    "import h5py\n",
    "from sklearn.preprocessing import MultiLabelBinarizer\n"
   ]
  },
  {
   "cell_type": "code",
   "execution_count": 2,
   "metadata": {
    "collapsed": false
   },
   "outputs": [
    {
     "name": "stdout",
     "output_type": "stream",
     "text": [
      "90.4501059055\n",
      "179.761613846\n"
     ]
    }
   ],
   "source": [
    "# start = time.time()\n",
    "# val_img_ID_to_DATA = np.load(\"/media/data_cifs/danshiebler/data/val_img_ID_to_DATA.npy\").item()\n",
    "# print time.time() - start\n",
    "\n",
    "# start = time.time()\n",
    "# train_img_ID_to_DATA = np.load(\"/media/data_cifs/danshiebler/data/train_img_ID_to_DATA.npy\").item()\n",
    "# print time.time() - start"
   ]
  },
  {
   "cell_type": "code",
   "execution_count": 4,
   "metadata": {
    "collapsed": false
   },
   "outputs": [],
   "source": [
    "# f = h5py.File(\"/media/data_cifs/danshiebler/data/img_ID_to_DATA.h5py\", \"w\")\n",
    "# f.create_dataset('val_data', data=val_img_ID_to_DATA.values())\n",
    "# f.create_dataset('val_keys', data=val_img_ID_to_DATA.keys())\n",
    "\n",
    "\n",
    "# f.create_dataset('train_data', data=train_img_ID_to_DATA.values())\n",
    "# f.create_dataset('train_keys', data=train_img_ID_to_DATA.keys())\n",
    "\n",
    "\n",
    "# train_labels = np.load(\"/media/data_cifs/danshiebler/data/train_img_ID_to_LABELS.npy\").item()\n",
    "# val_labels = np.load(\"/media/data_cifs/danshiebler/data/val_img_ID_to_LABELS.npy\").item()\n",
    "\n",
    "# binarizer = MultiLabelBinarizer()\n",
    "# f[\"train_labels\"] = binarizer.fit_transform([train_labels[ID] for ID in f['train_keys']])\n",
    "# f[\"val_labels\"]   = binarizer.transform([val_labels[ID] for ID in f['val_keys']])\n",
    "# print train_labels.shape, val_labels.shape\n",
    "\n",
    "# f.close()"
   ]
  },
  {
   "cell_type": "code",
   "execution_count": 8,
   "metadata": {
    "collapsed": false
   },
   "outputs": [],
   "source": []
  },
  {
   "cell_type": "code",
   "execution_count": null,
   "metadata": {
    "collapsed": true
   },
   "outputs": [],
   "source": []
  }
 ],
 "metadata": {
  "kernelspec": {
   "display_name": "Python 2",
   "language": "python",
   "name": "python2"
  },
  "language_info": {
   "codemirror_mode": {
    "name": "ipython",
    "version": 2
   },
   "file_extension": ".py",
   "mimetype": "text/x-python",
   "name": "python",
   "nbconvert_exporter": "python",
   "pygments_lexer": "ipython2",
   "version": "2.7.6"
  }
 },
 "nbformat": 4,
 "nbformat_minor": 1
}
