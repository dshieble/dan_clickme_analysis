{
 "cells": [
  {
   "cell_type": "code",
   "execution_count": 2,
   "metadata": {
    "collapsed": true
   },
   "outputs": [],
   "source": [
    "%matplotlib inline\n",
    "%load_ext autoreload\n",
    "%autoreload 2\n",
    "import matplotlib.pyplot as plt\n",
    "from tqdm import tqdm\n",
    "import numpy as np\n",
    "import pandas as pd\n",
    "from PIL import Image\n",
    "from scipy.misc import imread, imresize\n",
    "from scipy.misc import imsave\n",
    "import helper_functions as hf\n",
    "import pickledb"
   ]
  },
  {
   "cell_type": "code",
   "execution_count": 3,
   "metadata": {},
   "outputs": [
    {
     "name": "stdout",
     "output_type": "stream",
     "text": [
      "/attention_gradient_checkpoints/gradient_001_130671_2017_07_15_15_01_12/model_44000.ckpt-44000\n",
      "0.147590361446 0.465387851198 0.623378801025\n",
      "\n",
      "/checkpoints/baseline_001_50000_2017_06_07_10_19_47/model_252000.ckpt-252000\n",
      "0.155120481928 0.471995477557 0.632627025177\n",
      "\n",
      "/checkpoints/gradient_001_124720_2017_06_07_10_19_49/model_162000.ckpt-162000\n",
      "0.160206399368 0.494808333058 0.646451136756\n",
      "\n",
      "/checkpoints/gradient_001_112341_2017_05_15_22_53_23/model_80000.ckpt-80000\n",
      "0.158626308513 0.498840689631 0.6447054777\n",
      "\n",
      "/checkpoints/gradient_001_112341_2017_05_15_22_53_23/model_56000.ckpt-56000\n",
      "0.160033576931 0.491657750881 0.637341647328\n",
      "\n"
     ]
    }
   ],
   "source": [
    "model_results_db = pickledb.load('databases/linear_model_results.db', True)\n",
    "features_db = pickledb.load('databases/fc7_features_signature.db', True)\n",
    "\n",
    "L = !ls /media/data_cifs/danshiebler/data/generated_feature_vectors\n",
    "for l in sorted(L):\n",
    "    ID = l.split(\".\")[0]\n",
    "    features = features_db.get(ID)\n",
    "    model_results = model_results_db.get(ID)\n",
    "    print features[\"saved_weights_path\"].split(\"/media/data_cifs/clicktionary/clickme_experiment\")[-1]\n",
    "    print model_results[\"accuracy\"], model_results[\"recall\"], model_results[\"precision\"]\n",
    "    print"
   ]
  },
  {
   "cell_type": "code",
   "execution_count": null,
   "metadata": {
    "collapsed": true
   },
   "outputs": [],
   "source": []
  },
  {
   "cell_type": "code",
   "execution_count": null,
   "metadata": {
    "collapsed": true
   },
   "outputs": [],
   "source": []
  }
 ],
 "metadata": {
  "kernelspec": {
   "display_name": "Python 2",
   "language": "python",
   "name": "python2"
  },
  "language_info": {
   "codemirror_mode": {
    "name": "ipython",
    "version": 2
   },
   "file_extension": ".py",
   "mimetype": "text/x-python",
   "name": "python",
   "nbconvert_exporter": "python",
   "pygments_lexer": "ipython2",
   "version": "2.7.6"
  }
 },
 "nbformat": 4,
 "nbformat_minor": 2
}
